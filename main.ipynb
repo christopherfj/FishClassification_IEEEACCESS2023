{
 "cells": [
  {
   "cell_type": "code",
   "execution_count": null,
   "metadata": {
    "executionInfo": {
     "elapsed": 4,
     "status": "ok",
     "timestamp": 1689713030772,
     "user": {
      "displayName": "Christopher Flores Jara",
      "userId": "13528077062316910698"
     },
     "user_tz": 240
    },
    "id": "AbzJCYUPogBc"
   },
   "outputs": [],
   "source": [
    "#drive = True\n",
    "drive = False"
   ]
  },
  {
   "cell_type": "code",
   "execution_count": null,
   "metadata": {
    "colab": {
     "base_uri": "https://localhost:8080/"
    },
    "executionInfo": {
     "elapsed": 382689,
     "status": "ok",
     "timestamp": 1689713413458,
     "user": {
      "displayName": "Christopher Flores Jara",
      "userId": "13528077062316910698"
     },
     "user_tz": 240
    },
    "id": "nmST52vp_Zh6",
    "outputId": "dd1a5a90-4a64-4d82-dc5c-9f74089356af"
   },
   "outputs": [],
   "source": [
    "if drive:\n",
    "  !pip install tensorflow-gpu==2.6\n",
    "  #!pip install keras==2.6 -q\n",
    "  !pip install scikit-learn==0.22.2.post1 -q\n",
    "  !pip install scikit-image==0.19.0 -q\n",
    "  !pip install numpy==1.21.2 -q\n",
    "\n",
    "\n",
    "import sklearn\n",
    "print('\\nsklearn:', sklearn.__version__)\n",
    "import skimage\n",
    "print('skimage:', skimage.__version__)\n",
    "import cv2\n",
    "print('cv2:', cv2.__version__)\n",
    "import tensorflow as tf\n",
    "print('tf:', tf.__version__)\n",
    "import keras\n",
    "print('keras:', keras.__version__)\n"
   ]
  },
  {
   "cell_type": "code",
   "execution_count": null,
   "metadata": {
    "colab": {
     "base_uri": "https://localhost:8080/"
    },
    "executionInfo": {
     "elapsed": 1132194,
     "status": "ok",
     "timestamp": 1689714545647,
     "user": {
      "displayName": "Christopher Flores Jara",
      "userId": "13528077062316910698"
     },
     "user_tz": 240
    },
    "id": "QUUOfIIoxWbP",
    "outputId": "89b50386-941f-4622-fd17-e43ef6a72167"
   },
   "outputs": [],
   "source": [
    "if drive:\n",
    "  from google.colab import drive\n",
    "  drive.mount('/content/gdrive/', force_remount=True)\n",
    "  from os.path import dirname as up\n",
    "  %cd /content/gdrive/My Drive/Research/pelagicas/Codigos Diego Ramirez/Otros/Mas Codigos/Python/Modelos en Keras v3 (paper)/_FishNet\n",
    "\n",
    "import pickle\n",
    "import copy\n",
    "import numpy as np\n",
    "import os\n",
    "from collections import defaultdict\n",
    "from sklearn.model_selection import StratifiedKFold, KFold\n",
    "#from tensorflow.keras.models import load_model\n",
    "from sklearn.utils import shuffle\n",
    "from sklearn.neighbors import KNeighborsClassifier\n",
    "from sklearn.svm import SVC\n",
    "import tensorflow as tf\n",
    "import time\n",
    "from collections import Counter\n",
    "from sklearn.metrics import zero_one_loss, accuracy_score, precision_score, recall_score, f1_score\n",
    "from matplotlib import pylab\n",
    "from collections import Counter\n",
    "import gc\n",
    "seed = 42"
   ]
  },
  {
   "cell_type": "code",
   "execution_count": null,
   "metadata": {
    "executionInfo": {
     "elapsed": 10,
     "status": "ok",
     "timestamp": 1689714545647,
     "user": {
      "displayName": "Christopher Flores Jara",
      "userId": "13528077062316910698"
     },
     "user_tz": 240
    },
    "id": "tYtl8ws5j2-m"
   },
   "outputs": [],
   "source": [
    "#Select classifier\n",
    "#featureCLF = 'DL-RGB'\n",
    "#featureCLF = 'DL-SPEC'\n",
    "featureCLF = 'DL-BOTH'\n",
    "#featureCLF = 'IE'\n",
    "#featureCLF = 'HOG'"
   ]
  },
  {
   "cell_type": "code",
   "execution_count": null,
   "metadata": {
    "executionInfo": {
     "elapsed": 1880,
     "status": "ok",
     "timestamp": 1689714547520,
     "user": {
      "displayName": "Christopher Flores Jara",
      "userId": "13528077062316910698"
     },
     "user_tz": 240
    },
    "id": "Fp6viuisMXak"
   },
   "outputs": [],
   "source": [
    "if 'DL' in featureCLF:\n",
    "  from DL import *\n",
    "else:\n",
    "  from ML import *\n",
    "  from DL import getDataPath, getClasses\n",
    "from utils import *"
   ]
  },
  {
   "cell_type": "code",
   "execution_count": null,
   "metadata": {
    "executionInfo": {
     "elapsed": 22571,
     "status": "ok",
     "timestamp": 1689714570086,
     "user": {
      "displayName": "Christopher Flores Jara",
      "userId": "13528077062316910698"
     },
     "user_tz": 240
    },
    "id": "S36j_7PKxWba"
   },
   "outputs": [],
   "source": [
    "if drive:\n",
    "  mainFolder = './/data' \n",
    "  trainFolder = mainFolder + '//DataTrainVal'\n",
    "else:\n",
    "  mainFolder = '.\\\\data'\n",
    "  trainFolder = mainFolder + '\\\\DataTrainVal'\n",
    "\n",
    "trainPath = getDataPath(trainFolder)"
   ]
  },
  {
   "cell_type": "code",
   "execution_count": null,
   "metadata": {
    "colab": {
     "base_uri": "https://localhost:8080/"
    },
    "executionInfo": {
     "elapsed": 2143315,
     "status": "ok",
     "timestamp": 1689716713399,
     "user": {
      "displayName": "Christopher Flores Jara",
      "userId": "13528077062316910698"
     },
     "user_tz": 240
    },
    "id": "E7C8Dr5NgtSJ",
    "outputId": "9240c71d-7b35-43cb-b421-df1b6e4fd2be"
   },
   "outputs": [],
   "source": [
    "if 'HOG' in featureCLF:\n",
    "  data, classes = LoadHOGFeatures(trainPath)\n",
    "else:\n",
    "  data, classes = LoadDataFish(trainPath)\n",
    "\n",
    "total_samples = classes.shape[0]\n",
    "print(total_samples)\n",
    "print(np.sum(classes))"
   ]
  },
  {
   "cell_type": "code",
   "execution_count": null,
   "metadata": {
    "executionInfo": {
     "elapsed": 9,
     "status": "aborted",
     "timestamp": 1689716713400,
     "user": {
      "displayName": "Christopher Flores Jara",
      "userId": "13528077062316910698"
     },
     "user_tz": 240
    },
    "id": "8V5JyeZIxWbb"
   },
   "outputs": [],
   "source": [
    "if 'DL' in featureCLF:\n",
    "\n",
    "  Labels = ['Anchoveta', 'Merluza', 'Mote', 'Pampanito', 'Sardina Comun']\n",
    "\n",
    "  learning_rate = 0.05\n",
    "  decay = 1e-3\n",
    "  momentum = 0.9\n",
    "  optimizer = SGD(lr = learning_rate)#,  decay = decay, momentum = momentum\n",
    "  optimizer_params = {'learning_rate':learning_rate, 'decay':decay, 'momentum':momentum}\n",
    "\n",
    "  dropProbability = 0.25\n",
    "  activationUse = 'relu'\n",
    "  num_classes = 5\n",
    "  kinit = tf.keras.initializers.RandomUniform(seed=seed)\n",
    "  kernel_initializer = [kinit, kinit]\n",
    "  n_filters = np.asarray([[32,16],\n",
    "                          [30,10]])\n",
    "  kernel_size = np.asarray([ [(2,2),(2,2)],\n",
    "                            [3,3]])\n",
    "  pool_size = np.asarray([[(2,2),(2,2)],\n",
    "                          [2,2]])\n",
    "  dense = np.asarray([125,\n",
    "                      75,\n",
    "                      25])\n",
    "  model_params = {'kernel_initializer':kernel_initializer, 'n_filters':n_filters, 'kernel_size':kernel_size, 'pool_size':pool_size, 'dropProbability':dropProbability, 'activationUse':activationUse, 'dense':dense}\n",
    "\n",
    "  model = defineModelo(model_params, featureCLF)\n",
    "\n",
    "  validation_split = 0.33\n",
    "  batch_size = 32\n",
    "\n",
    "  if not drive:\n",
    "    savePath = '.\\\\MejorModeloAllNew\\\\'\n",
    "  else:\n",
    "    savePath = os.path.join( os.getcwd(),  'MejorModeloAllNew' )\n",
    "  if(dropProbability > 0):\n",
    "      if not drive:\n",
    "        savePath += 'ConDrop'+str(int(dropProbability*100))+'_\\\\'\n",
    "      else:\n",
    "        savePath += 'ConDrop'+str(int(dropProbability*100))+'_//'\n",
    "  else:\n",
    "      if not drive:\n",
    "        savePath += 'SinDrop\\\\'\n",
    "      else:\n",
    "        savePath += 'SinDrop//'\n",
    "\n",
    "  if not os.path.exists(savePath):\n",
    "      if not drive:\n",
    "        savePath += '0-'+activationUse+'\\\\'\n",
    "      else:\n",
    "        savePath += '0-'+activationUse+'//'\n",
    "      os.makedirs(savePath)\n",
    "  else:\n",
    "      dirPath = next(os.walk(savePath))[1]\n",
    "      if not drive:\n",
    "        savePath += str(len(dirPath))+'-'+activationUse+'\\\\'\n",
    "      else:\n",
    "        savePath += str(len(dirPath))+'-'+activationUse+'//'\n",
    "      os.makedirs(savePath)\n",
    "\n",
    "  model.compile(loss = \"categorical_crossentropy\", optimizer = optimizer, metrics=[\"acc\"])\n",
    "  plot_model(model, to_file= os.path.join( os.getcwd(), 'out', 'model', 'FishNet_plot.png' ) , show_shapes=True, show_layer_names=True)"
   ]
  },
  {
   "cell_type": "code",
   "execution_count": null,
   "metadata": {
    "executionInfo": {
     "elapsed": 10,
     "status": "aborted",
     "timestamp": 1689716713401,
     "user": {
      "displayName": "Christopher Flores Jara",
      "userId": "13528077062316910698"
     },
     "user_tz": 240
    },
    "id": "2yglgTiTxWbd"
   },
   "outputs": [],
   "source": [
    "if 'DL' in featureCLF:\n",
    "  Epochs = 4000\n",
    "  filepath = savePath + 'Model_2Input'\n",
    "  Maximo = False\n",
    "\n",
    "  if (Maximo):\n",
    "      checkpoint = ModelCheckpoint(filepath+'.hdf5', monitor='val_acc', verbose=1, save_best_only=True, mode='max')\n",
    "      earlystop = EarlyStopping(monitor='val_acc', patience=50, mode='max')\n",
    "  else:\n",
    "      checkpoint = ModelCheckpoint( os.path.join(os.getcwd(), 'out','model', 'Model_2Input.hdf5'), monitor='val_loss', verbose=0, save_best_only=True, mode='min')\n",
    "      earlystop = EarlyStopping(monitor='val_loss', patience=50, mode='min')\n",
    "\n",
    "  callbacks_list = [checkpoint, earlystop]"
   ]
  },
  {
   "cell_type": "code",
   "execution_count": null,
   "metadata": {
    "executionInfo": {
     "elapsed": 10,
     "status": "aborted",
     "timestamp": 1689716713401,
     "user": {
      "displayName": "Christopher Flores Jara",
      "userId": "13528077062316910698"
     },
     "user_tz": 240
    },
    "id": "H4uoWmbP1Wg-"
   },
   "outputs": [],
   "source": [
    "if 'DL' in featureCLF:\n",
    "  print('saving model...')\n",
    "  model.save( os.path.join(os.getcwd(), 'out', 'model', 'model_dl.h5') )"
   ]
  },
  {
   "cell_type": "code",
   "execution_count": null,
   "metadata": {
    "executionInfo": {
     "elapsed": 11,
     "status": "aborted",
     "timestamp": 1689716713402,
     "user": {
      "displayName": "Christopher Flores Jara",
      "userId": "13528077062316910698"
     },
     "user_tz": 240
    },
    "id": "-7cy0vdA2rB_"
   },
   "outputs": [],
   "source": [
    "runs = 1\n",
    "folds = 5\n",
    "batch = 450\n",
    "\n",
    "if 'HOG' in featureCLF:\n",
    "  features = ['Images', 'both']\n",
    "else:\n",
    "  features = ['Images', 'Spectral', 'both']\n",
    "training = False\n",
    "testing = True\n",
    "if training:\n",
    "  tipocurva = 'training'\n",
    "else:\n",
    "  tipocurva = 'testing'\n",
    "\n",
    "skf = StratifiedKFold(n_splits=folds, shuffle = False, random_state = seed)\n",
    "\n",
    "index_aux = np.arange( total_samples )\n",
    "if 'DL' in featureCLF:\n",
    "  y_aux = np.argmax( classes, axis = 1 )\n",
    "else:\n",
    "  y_aux = classes.copy()\n",
    "results = True\n",
    "resultsLC = True\n",
    "\n",
    "for r in range(runs):\n",
    "\n",
    "  k = 0\n",
    "  index_aux, y_aux = shuffle( index_aux, y_aux, random_state = seed )\n",
    "  for train_index, test_index in skf.split(index_aux, y_aux):\n",
    "    print('run:',r+1,'; fold:',k+1,'...')\n",
    "    \n",
    "    train_index = train_index[:300]\n",
    "    test_index = test_index[:100]\n",
    "    \n",
    "\n",
    "    if results:\n",
    "      print('Clasification results...')\n",
    "      if 'DL' in featureCLF:\n",
    "        true, pred = get_results(index_aux[train_index], index_aux[test_index], featureCLF, None, data, classes, validation_split, Epochs, batch_size, callbacks_list)\n",
    "        with open( os.path.join( os.getcwd(), 'out', 'Results', 'DL','results_'+'dl_'+featureCLF+'_r_'+str(r+1)+'_f_'+str(k+1)+'.pkl' ), 'wb' ) as a:\n",
    "          pickle.dump( [true, pred], a, protocol = 2 )\n",
    "      else:\n",
    "        for feature in features:\n",
    "          print(feature)\n",
    "          true, pred_svm = get_results(index_aux[train_index], index_aux[test_index], featureCLF, feature, data, classes, None, None, None, None)\n",
    "          with open( os.path.join( os.getcwd(), 'out', 'Results', 'SVM','results_svm_'+featureCLF+'_'+feature+'_r_'+str(r+1)+'_f_'+str(k+1)+'.pkl' ), 'wb' ) as a:\n",
    "            pickle.dump( [true, pred_svm], a, protocol = 2 )\n",
    "\n",
    "    if resultsLC:\n",
    "\n",
    "      print('LC results...')\n",
    "      if 'DL' in featureCLF:\n",
    "        results_lc = get_lc_results( index_aux[train_index], index_aux[test_index], featureCLF, None, training, testing, data, classes, validation_split, Epochs, batch_size, callbacks_list, batch)\n",
    "        with open( os.path.join( os.getcwd(), 'out', 'ResultsLC', 'DL', 'results_lc_dl_'+featureCLF+'_'+tipocurva+'_r_'+str(r+1)+'_f_'+str(k+1)+'.pkl' ), 'wb' ) as a:\n",
    "          pickle.dump( results_lc, a, protocol = 2 )\n",
    "      else:\n",
    "        for feature in features:\n",
    "          print(feature)\n",
    "          results_lc_svm  = get_lc_results( index_aux[train_index], index_aux[test_index], featureCLF, feature, training, testing, data, classes, None, None, None, None, batch )\n",
    "          with open( os.path.join( os.getcwd(), 'out', 'ResultsLC', 'SVM', 'results_lc_svm_'+featureCLF+'_'+feature+'_'+tipocurva+'_r_'+str(r+1)+'_f_'+str(k+1)+'.pkl' ), 'wb' ) as a:\n",
    "            pickle.dump( results_lc_svm, a, protocol = 2 )\n",
    "    k+=1"
   ]
  }
 ],
 "metadata": {
  "accelerator": "GPU",
  "colab": {
   "gpuType": "T4",
   "machine_shape": "hm",
   "provenance": []
  },
  "kernelspec": {
   "display_name": "Python 3 (ipykernel)",
   "language": "python",
   "name": "python3"
  },
  "language_info": {
   "codemirror_mode": {
    "name": "ipython",
    "version": 3
   },
   "file_extension": ".py",
   "mimetype": "text/x-python",
   "name": "python",
   "nbconvert_exporter": "python",
   "pygments_lexer": "ipython3",
   "version": "3.9.13"
  }
 },
 "nbformat": 4,
 "nbformat_minor": 1
}
